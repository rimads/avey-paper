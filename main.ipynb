{
 "cells": [
  {
   "cell_type": "markdown",
   "metadata": {},
   "source": [
    "# Initial results"
   ]
  },
  {
   "cell_type": "code",
   "execution_count": 48,
   "metadata": {},
   "outputs": [
    {
     "data": {
      "text/html": [
       "<div>\n",
       "<style scoped>\n",
       "    .dataframe tbody tr th:only-of-type {\n",
       "        vertical-align: middle;\n",
       "    }\n",
       "\n",
       "    .dataframe tbody tr th {\n",
       "        vertical-align: top;\n",
       "    }\n",
       "\n",
       "    .dataframe thead th {\n",
       "        text-align: right;\n",
       "    }\n",
       "</style>\n",
       "<table border=\"1\" class=\"dataframe\">\n",
       "  <thead>\n",
       "    <tr style=\"text-align: right;\">\n",
       "      <th></th>\n",
       "      <th>Gold standard ddx</th>\n",
       "      <th>Avey</th>\n",
       "      <th>Ada</th>\n",
       "      <th>Symptomate</th>\n",
       "    </tr>\n",
       "  </thead>\n",
       "  <tbody>\n",
       "    <tr>\n",
       "      <th>0</th>\n",
       "      <td>Acute bronchitis</td>\n",
       "      <td>Acute bronchitis</td>\n",
       "      <td>Acute bronchitis</td>\n",
       "      <td>Covid-19</td>\n",
       "    </tr>\n",
       "    <tr>\n",
       "      <th>1</th>\n",
       "      <td>Common cold</td>\n",
       "      <td>Pulmonary edema</td>\n",
       "      <td>Common cold</td>\n",
       "      <td>Asthma</td>\n",
       "    </tr>\n",
       "    <tr>\n",
       "      <th>2</th>\n",
       "      <td>Asthma</td>\n",
       "      <td>Common cold</td>\n",
       "      <td>Pneumonia</td>\n",
       "      <td>Acute bronchitis</td>\n",
       "    </tr>\n",
       "    <tr>\n",
       "      <th>3</th>\n",
       "      <td>Influenza</td>\n",
       "      <td>Pericardial effusion</td>\n",
       "      <td>Acute laryngitis</td>\n",
       "      <td>Cardiac tamponade</td>\n",
       "    </tr>\n",
       "    <tr>\n",
       "      <th>4</th>\n",
       "      <td>None</td>\n",
       "      <td>Influenza</td>\n",
       "      <td>None</td>\n",
       "      <td>Pneumonia</td>\n",
       "    </tr>\n",
       "    <tr>\n",
       "      <th>5</th>\n",
       "      <td>None</td>\n",
       "      <td>Mitral regurgitation</td>\n",
       "      <td>None</td>\n",
       "      <td>Pulmonary edema</td>\n",
       "    </tr>\n",
       "  </tbody>\n",
       "</table>\n",
       "</div>"
      ],
      "text/plain": [
       "  Gold standard ddx                  Avey               Ada         Symptomate\n",
       "0  Acute bronchitis      Acute bronchitis  Acute bronchitis           Covid-19\n",
       "1       Common cold       Pulmonary edema       Common cold             Asthma\n",
       "2            Asthma           Common cold         Pneumonia   Acute bronchitis\n",
       "3         Influenza  Pericardial effusion  Acute laryngitis  Cardiac tamponade\n",
       "4              None             Influenza              None          Pneumonia\n",
       "5              None  Mitral regurgitation              None    Pulmonary edema"
      ]
     },
     "execution_count": 48,
     "metadata": {},
     "output_type": "execute_result"
    }
   ],
   "source": [
    "import pandas as pd\n",
    "with open(\"sample.csv\",\"r\") as file:\n",
    "    labels = file.readline().strip().split(\",\")\n",
    "    data = [line.strip().split(\",\") for line in file.readlines()]\n",
    "\n",
    "df = pd.DataFrame(data, columns=labels).replace({\"\":None})\n",
    "df\n"
   ]
  },
  {
   "cell_type": "markdown",
   "metadata": {},
   "source": [
    "Let us calculate the precision and the recall."
   ]
  },
  {
   "cell_type": "code",
   "execution_count": 74,
   "metadata": {},
   "outputs": [
    {
     "name": "stdout",
     "output_type": "stream",
     "text": [
      "[4, 3, 2, 1] [15.0, 0, 3.5, 0, 0.38685280723454163, 0] 21.347184833073598\n",
      "[4, 3, 2, 1] [15.0, 4.4165082750002025, 0, 0, 0, 0] 21.347184833073598\n",
      "[4, 3, 2, 1] [0, 1.8927892607143724, 7.5, 0, 0, 0] 21.347184833073598\n"
     ]
    },
    {
     "data": {
      "text/html": [
       "<div>\n",
       "<style scoped>\n",
       "    .dataframe tbody tr th:only-of-type {\n",
       "        vertical-align: middle;\n",
       "    }\n",
       "\n",
       "    .dataframe tbody tr th {\n",
       "        vertical-align: top;\n",
       "    }\n",
       "\n",
       "    .dataframe thead th {\n",
       "        text-align: right;\n",
       "    }\n",
       "</style>\n",
       "<table border=\"1\" class=\"dataframe\">\n",
       "  <thead>\n",
       "    <tr style=\"text-align: right;\">\n",
       "      <th></th>\n",
       "      <th>Avey</th>\n",
       "      <th>Ada</th>\n",
       "      <th>Symptomate</th>\n",
       "    </tr>\n",
       "  </thead>\n",
       "  <tbody>\n",
       "    <tr>\n",
       "      <th>precision</th>\n",
       "      <td>0.500000</td>\n",
       "      <td>0.500000</td>\n",
       "      <td>0.333333</td>\n",
       "    </tr>\n",
       "    <tr>\n",
       "      <th>recall</th>\n",
       "      <td>0.750000</td>\n",
       "      <td>0.500000</td>\n",
       "      <td>0.500000</td>\n",
       "    </tr>\n",
       "    <tr>\n",
       "      <th>f1-score</th>\n",
       "      <td>0.600000</td>\n",
       "      <td>0.500000</td>\n",
       "      <td>0.400000</td>\n",
       "    </tr>\n",
       "    <tr>\n",
       "      <th>NDCG</th>\n",
       "      <td>0.884747</td>\n",
       "      <td>0.909558</td>\n",
       "      <td>0.440001</td>\n",
       "    </tr>\n",
       "  </tbody>\n",
       "</table>\n",
       "</div>"
      ],
      "text/plain": [
       "               Avey       Ada  Symptomate\n",
       "precision  0.500000  0.500000    0.333333\n",
       "recall     0.750000  0.500000    0.500000\n",
       "f1-score   0.600000  0.500000    0.400000\n",
       "NDCG       0.884747  0.909558    0.440001"
      ]
     },
     "execution_count": 74,
     "metadata": {},
     "output_type": "execute_result"
    }
   ],
   "source": [
    "import math\n",
    "def getPrecision(goldStandard:pd.Series, candidate:pd.Series) -> float:\n",
    "    tp = sum(int(disease in goldStandard.values and disease is not None)\n",
    "             for disease in candidate)\n",
    "    return tp/candidate.count()\n",
    "\n",
    "\n",
    "def getRecall(goldStandard: pd.Series, candidate: pd.Series) -> float:\n",
    "    tp = sum(int(disease in goldStandard.values and disease is not None)\n",
    "             for disease in candidate)\n",
    "    return tp/goldStandard.count()\n",
    "\n",
    "def getF1Score(precision:float, recall: float) -> float:\n",
    "    return 2*precision*recall/(precision+recall)\n",
    "\n",
    "\n",
    "def getNDCG(goldStandard: pd.Series, candidate: pd.Series, scores) -> float:\n",
    "    def discount(score:float,index:int)->float:\n",
    "        return (math.pow(2,score)-1)/math.log2(index+1)\n",
    "\n",
    "    maxDCG = sum(discount(scores[i],i+1) for i in range(len(scores)))\n",
    "\n",
    "    candidateRelevance = []\n",
    "    for index,disease in enumerate(candidate):\n",
    "        goldStandard = list(goldStandard)\n",
    "        if disease is not None and disease in goldStandard:\n",
    "            candidateRelevance.append(discount(scores[goldStandard.index(disease)],index+1))\n",
    "        else:\n",
    "            candidateRelevance.append(0)\n",
    "    \n",
    "    return sum(candidateRelevance)/maxDCG\n",
    "\n",
    "def getScoresCase(case)->pd.DataFrame:\n",
    "    scores = [\n",
    "    [getPrecision(df.iloc[:, 0], df.iloc[:, i]) for i in range(1,4)], \n",
    "    [getRecall(df.iloc[:, 0], df.iloc[:, i]) for i in range(1, 4)]\n",
    "    ]\n",
    "\n",
    "    scores.append([getF1Score(scores[0][i], scores[1][i]) for i in range(3)])\n",
    "    scores.append([getNDCG(df.iloc[:, 0], df.iloc[:, i], list(range(df.iloc[:, 0].count(),0,-1)))\n",
    "                  for i in range(1, 4)])\n",
    "\n",
    "    return pd.DataFrame(scores,columns=labels[1:],index=[\"precision\",\"recall\",\"f1-score\",\"NDCG\"])\n",
    "\n",
    "\n",
    "getScoresCase(df)\n"
   ]
  }
 ],
 "metadata": {
  "interpreter": {
   "hash": "6ae9e1b38b50e4dceb5ece5c338b95e9353ea60c1ebf6c653ee0bd64fd4a3238"
  },
  "kernelspec": {
   "display_name": "Python 3.8.10 64-bit ('.venv': venv)",
   "name": "python3"
  },
  "language_info": {
   "codemirror_mode": {
    "name": "ipython",
    "version": 3
   },
   "file_extension": ".py",
   "mimetype": "text/x-python",
   "name": "python",
   "nbconvert_exporter": "python",
   "pygments_lexer": "ipython3",
   "version": "3.8.10"
  },
  "orig_nbformat": 4
 },
 "nbformat": 4,
 "nbformat_minor": 2
}
